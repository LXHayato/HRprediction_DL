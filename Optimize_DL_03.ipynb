{
 "cells": [
  {
   "cell_type": "code",
   "execution_count": 137,
   "metadata": {},
   "outputs": [],
   "source": [
    "import pandas as pd\n",
    "\n",
    "pd.set_option(\"display.max_columns\",200)\n",
    "pd.set_option(\"display.max_rows\",200)"
   ]
  },
  {
   "cell_type": "code",
   "execution_count": 25,
   "metadata": {},
   "outputs": [
    {
     "name": "stdout",
     "output_type": "stream",
     "text": [
      "Epoch 1/10\n",
      "49/49 - 1s - loss: 0.0000e+00 - accuracy: 0.2393 - val_loss: 0.0000e+00 - val_accuracy: 0.2544\n",
      "Epoch 2/10\n",
      "49/49 - 0s - loss: 0.0000e+00 - accuracy: 0.2393 - val_loss: 0.0000e+00 - val_accuracy: 0.2544\n",
      "Epoch 3/10\n",
      "49/49 - 0s - loss: 0.0000e+00 - accuracy: 0.2393 - val_loss: 0.0000e+00 - val_accuracy: 0.2544\n",
      "Epoch 4/10\n",
      "49/49 - 0s - loss: 0.0000e+00 - accuracy: 0.2393 - val_loss: 0.0000e+00 - val_accuracy: 0.2544\n",
      "Epoch 5/10\n",
      "49/49 - 0s - loss: 0.0000e+00 - accuracy: 0.2393 - val_loss: 0.0000e+00 - val_accuracy: 0.2544\n",
      "Epoch 6/10\n",
      "49/49 - 0s - loss: 0.0000e+00 - accuracy: 0.2393 - val_loss: 0.0000e+00 - val_accuracy: 0.2544\n",
      "Epoch 7/10\n",
      "49/49 - 0s - loss: 0.0000e+00 - accuracy: 0.2393 - val_loss: 0.0000e+00 - val_accuracy: 0.2544\n",
      "Epoch 8/10\n",
      "49/49 - 0s - loss: 0.0000e+00 - accuracy: 0.2393 - val_loss: 0.0000e+00 - val_accuracy: 0.2544\n",
      "Epoch 9/10\n",
      "49/49 - 0s - loss: 0.0000e+00 - accuracy: 0.2393 - val_loss: 0.0000e+00 - val_accuracy: 0.2544\n",
      "Epoch 10/10\n",
      "49/49 - 0s - loss: 0.0000e+00 - accuracy: 0.2393 - val_loss: 0.0000e+00 - val_accuracy: 0.2544\n"
     ]
    },
    {
     "data": {
      "image/png": "[encoded data removed]",
      "text/plain": [
       "<Figure size 432x288 with 1 Axes>"
      ]
     },
     "metadata": {
      "needs_background": "light"
     },
     "output_type": "display_data"
    }
   ],
   "source": [
    "from keras.models import Sequential\n",
    "from keras.layers import Activation, Dense\n",
    "from keras.utils.np_utils import to_categorical\n",
    "from keras.models import Sequential\n",
    "from keras.layers import Dense, Dropout\n",
    "from keras.optimizers import Adam\n",
    "from keras.layers.normalization import BatchNormalization\n",
    "from sklearn import svm, linear_model, preprocessing\n",
    "from sklearn.preprocessing import LabelBinarizer\n",
    "\n",
    "import keras\n",
    "import numpy as np\n",
    "import pandas as pd\n",
    "import matplotlib.pyplot as plt\n",
    "import re\n",
    "import MySQLdb\n",
    "import itertools\n",
    "\n",
    "i = 0\n",
    "X = []\n",
    "Y = []\n",
    "X_train = []\n",
    "Y_train = []\n",
    "X_test = []\n",
    "Y_test = []\n",
    "\n",
    "# データ読み込み\n",
    "conn = MySQLdb.connect(host='localhost', port=3306, user='user1', passwd='Silver8810', db='hrdb', charset='utf8')\n",
    "cur = conn.cursor()\n",
    "cur.execute(\"SELECT Frame, Sex, Age, Handicap, RName, Weight, Increase, Year, Month, Start, Weather, Ground, GCondition, Distance, Prize1, Prize2, Prize3, Prize4, Prize5 from jra_data\")\n",
    "for Var in cur:\n",
    "    X.append(list(Var))\n",
    "cur.execute(\"SELECT Pref from jra_data\")\n",
    "for Var in cur:\n",
    "    if Var[0] < 4:\n",
    "        Y.append(1)\n",
    "    else:\n",
    "        Y.append(0)\n",
    "\n",
    "# One-hot encording\n",
    "# Xに入れる際にそれぞれの要素内で順番が逆になっている。 print(Sex_ohe[0]と実際にX内に入っている数値が逆)forの仕様？\n",
    "# 全て一律に逆になっているのであれば問題はないので修正はしない。\n",
    "Frame_ohe = [i[0] for i in X]\n",
    "Frame_ohe = LabelBinarizer().fit_transform(Frame_ohe)\n",
    "Sex_ohe = [i[2] for i in X]\n",
    "Sex_ohe = LabelBinarizer().fit_transform(Sex_ohe)\n",
    "RName_ohe = [i[5] for i in X]\n",
    "RName_ohe = LabelBinarizer().fit_transform(RName_ohe)\n",
    "Year_ohe = [i[8] for i in X]\n",
    "Year_ohe = LabelBinarizer().fit_transform(Year_ohe)\n",
    "Month_ohe = [i[9] for i in X]\n",
    "Month_ohe = LabelBinarizer().fit_transform(Month_ohe)\n",
    "Start_ohe = [i[10] for i in X]\n",
    "Start_ohe = LabelBinarizer().fit_transform(Start_ohe)\n",
    "Weather_ohe = [i[11] for i in X]\n",
    "Weather_ohe = LabelBinarizer().fit_transform(Weather_ohe)\n",
    "Ground_ohe = [i[12] for i in X]\n",
    "Ground_ohe = LabelBinarizer().fit_transform(Ground_ohe)\n",
    "GCondition_ohe = [i[13] for i in X]\n",
    "GCondition_ohe = LabelBinarizer().fit_transform(GCondition_ohe)\n",
    "\n",
    "for i in range(len(X)):\n",
    "    del X[i][0:2]\n",
    "    del X[i][2]\n",
    "    del X[i][4:10]\n",
    "\n",
    "#標準化\n",
    "X = preprocessing.scale(X)\n",
    "X = X.tolist()\n",
    "\n",
    "for i in range(len(X)):\n",
    "    for j in Frame_ohe[i]:\n",
    "        X[i].append(j)\n",
    "    for j in Sex_ohe[i]:\n",
    "        X[i].append(j)\n",
    "    for j in RName_ohe[i]:\n",
    "        X[i].append(j)\n",
    "    for j in Year_ohe[i]:\n",
    "        X[i].append(j)\n",
    "    for j in Month_ohe[i]:\n",
    "        X[i].append(j)\n",
    "    for j in Start_ohe[i]:\n",
    "        X[i].append(j)\n",
    "    for j in Weather_ohe[i]:\n",
    "        X[i].append(j)\n",
    "    for j in Ground_ohe[i]:\n",
    "        X[i].append(j)\n",
    "    for j in GCondition_ohe[i]:\n",
    "        X[i].append(j)\n",
    "        \n",
    "i=0\n",
    "#バッチサイズで割り切れる様に3072としている。\n",
    "#fit.関数のvalidation_splitを使えば最後の一部をテストデータとして使えるのでこれはいらなかった。\n",
    "#for Var in X:\n",
    "#    if i < 3072:\n",
    "#        X_train.append(Var)\n",
    "#        Y_train.append(Y[i])\n",
    "#        i += 1\n",
    "#    elif i < 3392:\n",
    "#        X_test.append(Var)\n",
    "#        Y_test.append(Y[i])\n",
    "#        i += 1\n",
    "#    else:\n",
    "#        break\n",
    "\n",
    "#X_train = np.array(X_train).astype(np.float32)\n",
    "#X_test = np.array(X_test).astype(np.float32)\n",
    "#Y_train = np.array(Y_train)\n",
    "#Y_test = np.array(Y_test)\n",
    "\n",
    "X = np.array(X).astype(np.float32)\n",
    "Y = np.array(Y)\n",
    "#print(f\"X={len(X)}、Y={len(Y)}\")\n",
    "#print(f\"X_test={len(X_test)}、Y_test={len(Y_test)}\")\n",
    "\n",
    "# モデル\n",
    "model = Sequential()\n",
    "# 全結合層(18を500に)\n",
    "#model.add(Dense(input_dim=100, output_dim=500))\n",
    "#model.add(Dense(units=20, input_dim=100, output_dim=500))\n",
    "model.add(Dense(100, activation='relu',input_dim=178))\n",
    "# 各バッチ毎に前の層の出力を正規化する。\n",
    "model.add(BatchNormalization())\n",
    "# 全結合層(500を2に) \n",
    "#model.add(Dense(output_dim=2))\n",
    "model.add(Dense(1,activation = 'softmax'))\n",
    "# softmax関数\n",
    "#model.add(Activation(\"softmax\"))\n",
    "# コンパイル\n",
    "optimizer = Adam(lr=0.01, beta_1=0.9, beta_2=0.999, epsilon=None, decay=0.0, amsgrad=False)\n",
    "model.compile(loss=\"categorical_crossentropy\", optimizer=optimizer, metrics=[\"accuracy\"])\n",
    "# 実行\n",
    "#model.fit(X, Y, nb_epoch=300, batch_size=50,validation_split=0.1)\n",
    "#history = model.fit(X_train, Y_train, epochs=10, batch_size=64, verbose=2, validation_data=(X_test, Y_test))# validation_split=0.1)\n",
    "history = model.fit(X, Y, epochs=10, batch_size=64, verbose=2, validation_split=0.1)\n",
    "#hist = model.fit(X_train, Y_train)\n",
    "#loss_and_metrics = model.evaluate(X_test, Y_test, batch_size=64)\n",
    "\n",
    "# 予測\n",
    "#results = model.predict_proba(np.array(X_test))\n",
    "# 結果\n",
    "#print(\"Predict:\\n\", results)\n",
    "\n",
    "#モデル保存\n",
    "SAVE_DATA_DIR_PATH = \"E:\\\\プログラミング\\\\python_model\\\\\"\n",
    "model.save_weights(SAVE_DATA_DIR_PATH + \"weight.hdf5\")\n",
    "\n",
    "# グラフ化\n",
    "plt.plot(history.history['accuracy'])\n",
    "plt.plot(history.history['val_accuracy'])\n",
    "plt.title('Model accuracy')\n",
    "plt.ylabel('Accuracy')\n",
    "plt.xlabel('Epoch')\n",
    "plt.grid()\n",
    "plt.legend(['Train', 'Validation'], loc='upper left')\n",
    "plt.show()\n",
    "\n",
    "cur.close()\n",
    "conn.close()"
   ]
  },
  {
   "cell_type": "code",
   "execution_count": 132,
   "metadata": {},
   "outputs": [
    {
     "name": "stdout",
     "output_type": "stream",
     "text": [
      "[[ 0  1  2  3  4  5]\n",
      " [ 6  7  8  9 10 11]\n",
      " [12 13 14 15 16 17]\n",
      " [18 19 20 21 22 23]]\n",
      "[[ 0  1  2]\n",
      " [ 3  4  5]\n",
      " [ 6  7  8]\n",
      " [ 9 10 11]]\n",
      "[0 1 0 1 2 2 3 4 5]\n",
      "4\n",
      "[[0 0 0 0 0 0 0 0 0]\n",
      " [1 1 1 1 1 1 1 1 1]\n",
      " [2 2 2 2 2 2 2 2 2]\n",
      " [3 3 3 3 3 3 3 3 3]]\n",
      "[[ 0  1  2  3  0  1  2  4  5]\n",
      " [ 6  7  8  9  3  4  5 10 11]\n",
      " [12 13 14 15  6  7  8 16 17]\n",
      " [18 19 20 21  9 10 11 22 23]]\n",
      "[[-1.22474487 -1.01904933 -1.29777137]\n",
      " [ 0.         -0.33968311  1.13554995]\n",
      " [ 1.22474487  1.35873244  0.16222142]]\n",
      "[[-1.22474487  0.          1.22474487]\n",
      " [-1.06904497 -0.26726124  1.33630621]\n",
      " [-1.22474487  1.22474487  0.        ]]\n"
     ]
    }
   ],
   "source": [
    "import numpy as np\n",
    "\n",
    "a = np.arange(24).reshape(4, 6)\n",
    "#print(a)\n",
    "#print(f\"00={np.delete(a,0,0)}\")\n",
    "#print(f\"01={np.delete(a,0,1)}\")\n",
    "#print(f\"10={np.delete(a,1,0)}\")\n",
    "#print(f\"20={np.delete(a,2,0)}\")\n",
    "#print(f\"20={np.delete(a,slice(0,3),1)}\")\n",
    "\n",
    "b = np.arange(12).reshape(4,3)\n",
    "print(a)\n",
    "print(b)\n",
    "\n",
    "c = np.insert(a[0], 2, b[0])\n",
    "print(c)\n",
    "print(b.shape[0])\n",
    "\n",
    "d = np.array([[i for j in range(0, 9)] for i in range(0, 4)])\n",
    "print(d)\n",
    "for i in range(b.shape[0]):\n",
    "    d[i] = np.insert(a[i], 4, b[i])\n",
    "print(d)\n",
    "e = [[1,2,3],[2,4,8],[3,9,6]]\n",
    "print(preprocessing.scale(e))\n",
    "print(preprocessing.scale(e, axis = 1))"
   ]
  },
  {
   "cell_type": "code",
   "execution_count": 89,
   "metadata": {},
   "outputs": [
    {
     "name": "stdout",
     "output_type": "stream",
     "text": [
      "Requirement already satisfied: h5py in c:\\users\\froid\\anaconda3\\lib\\site-packages (2.10.0)\n",
      "Requirement already satisfied: six in c:\\users\\froid\\anaconda3\\lib\\site-packages (from h5py) (1.15.0)\n",
      "Requirement already satisfied: numpy>=1.7 in c:\\users\\froid\\anaconda3\\lib\\site-packages (from h5py) (1.19.5)\n",
      "Note: you may need to restart the kernel to use updated packages.\n"
     ]
    }
   ],
   "source": [
    "pip install h5py"
   ]
  },
  {
   "cell_type": "code",
   "execution_count": 104,
   "metadata": {},
   "outputs": [
    {
     "ename": "AttributeError",
     "evalue": "'list' object has no attribute 'history'",
     "output_type": "error",
     "traceback": [
      "\u001b[1;31m---------------------------------------------------------------------------\u001b[0m",
      "\u001b[1;31mAttributeError\u001b[0m                            Traceback (most recent call last)",
      "\u001b[1;32m<ipython-input-104-e58fd873bb4d>\u001b[0m in \u001b[0;36m<module>\u001b[1;34m\u001b[0m\n\u001b[1;32m----> 1\u001b[1;33m \u001b[0mloss_and_metrics\u001b[0m\u001b[1;33m.\u001b[0m\u001b[0mhistory\u001b[0m\u001b[1;33m.\u001b[0m\u001b[0mkeys\u001b[0m\u001b[1;33m(\u001b[0m\u001b[1;33m)\u001b[0m\u001b[1;33m\u001b[0m\u001b[1;33m\u001b[0m\u001b[0m\n\u001b[0m",
      "\u001b[1;31mAttributeError\u001b[0m: 'list' object has no attribute 'history'"
     ]
    }
   ],
   "source": [
    "loss_and_metrics.history.keys()"
   ]
  },
  {
   "cell_type": "code",
   "execution_count": 109,
   "metadata": {},
   "outputs": [
    {
     "name": "stdout",
     "output_type": "stream",
     "text": [
      "type=<class 'list'>,len=4\n"
     ]
    }
   ],
   "source": [
    "a = [0,1,2,3]\n",
    "print(f\"type={type(a)},len={len(a)}\")"
   ]
  },
  {
   "cell_type": "code",
   "execution_count": null,
   "metadata": {},
   "outputs": [],
   "source": []
  }
 ],
 "metadata": {
  "kernelspec": {
   "display_name": "Python 3",
   "language": "python",
   "name": "python3"
  },
  "language_info": {
   "codemirror_mode": {
    "name": "ipython",
    "version": 3
   },
   "file_extension": ".py",
   "mimetype": "text/x-python",
   "name": "python",
   "nbconvert_exporter": "python",
   "pygments_lexer": "ipython3",
   "version": "3.7.6"
  },
  "toc-autonumbering": true,
  "toc-showcode": false
 },
 "nbformat": 4,
 "nbformat_minor": 4
}
